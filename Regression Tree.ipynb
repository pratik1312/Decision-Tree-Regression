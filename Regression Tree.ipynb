{
 "cells": [
  {
   "cell_type": "code",
   "execution_count": 1,
   "metadata": {},
   "outputs": [],
   "source": [
    "import numpy as np\n",
    "import pandas as pd\n",
    "from sklearn.model_selection import train_test_split\n",
    "from sklearn.metrics import r2_score,mean_squared_error\n",
    "import seaborn as sns"
   ]
  },
  {
   "cell_type": "code",
   "execution_count": 21,
   "metadata": {},
   "outputs": [
    {
     "name": "stdout",
     "output_type": "stream",
     "text": [
      "            x           y\n",
      "0   56.000000  157.553428\n",
      "1   75.636364  156.479835\n",
      "2   95.272727  158.248104\n",
      "3  114.909091  160.195151\n",
      "4  134.545455  156.877148\n",
      "5  154.181818  157.073544\n",
      "6  173.818182  160.896607\n",
      "7  193.454545  159.469415\n",
      "8  213.090909  157.191960\n",
      "9  232.727273  159.412393\n"
     ]
    }
   ],
   "source": [
    "data = pd.read_csv('data.csv')\n",
    "print(data.head(10))"
   ]
  },
  {
   "cell_type": "code",
   "execution_count": 5,
   "metadata": {},
   "outputs": [],
   "source": [
    "x = data.x\n",
    "y = data.y\n",
    "x = x.values.reshape(-1, 1)\n",
    "y = y.values.reshape(-1, 1)\n",
    "x_train, x_test, y_train, y_test = train_test_split(x, y, test_size=0.50, random_state=42)"
   ]
  },
  {
   "cell_type": "code",
   "execution_count": 23,
   "metadata": {},
   "outputs": [
    {
     "name": "stdout",
     "output_type": "stream",
     "text": [
      "[171.43755825 165.41706509 173.57789131 164.67144973 164.40142897\n",
      " 161.36544608 160.23208376 168.09758944 157.19196032 156.47983503\n",
      " 160.52667648 161.67115795 165.85141888 162.81664191 175.0628985\n",
      " 160.19515062 172.93107774 172.05988519 155.85925524 162.81664191\n",
      " 169.22563541 174.30113858 160.18396182 164.40142897 170.63599932\n",
      " 155.85925524 164.95364565 176.12938327 157.19196032 173.57789131\n",
      " 157.19196032 166.67269112 171.43755825 161.67115795 173.22134836\n",
      " 160.89660745 171.72342943 170.75232437 164.0468181  160.52667648\n",
      " 166.67269112 162.81664191 160.89660745 174.23396551 161.67115795\n",
      " 163.41857027 175.61760627 160.18396182 168.16686386 155.85925524]\n"
     ]
    }
   ],
   "source": [
    "from sklearn.tree import DecisionTreeRegressor\n",
    "regressor = DecisionTreeRegressor(random_state = 0)  \n",
    "#fit the regressor with X and Y data \n",
    "regressor.fit(x_train,y_train) \n",
    "y_pred = regressor.predict(x_test)\n",
    "print (y_pred)"
   ]
  },
  {
   "cell_type": "code",
   "execution_count": 26,
   "metadata": {},
   "outputs": [
    {
     "name": "stdout",
     "output_type": "stream",
     "text": [
      "0.8302300393690947\n"
     ]
    }
   ],
   "source": [
    "from sklearn.metrics import accuracy_score\n",
    "accuracy = regressor.score(x_test,y_test)\n",
    "print (accuracy)"
   ]
  },
  {
   "cell_type": "code",
   "execution_count": null,
   "metadata": {},
   "outputs": [],
   "source": [
    "from sklearn.tree import export_graphviz  \n",
    "  \n",
    "# export the decision tree to a tree.dot file \n",
    "# for visualizing the plot easily anywhere \n",
    "export_graphviz(regressor, out_file ='1.jpeg', \n",
    "               feature_names =['Production Cost'])  "
   ]
  }
 ],
 "metadata": {
  "kernelspec": {
   "display_name": "Python 3",
   "language": "python",
   "name": "python3"
  },
  "language_info": {
   "codemirror_mode": {
    "name": "ipython",
    "version": 3
   },
   "file_extension": ".py",
   "mimetype": "text/x-python",
   "name": "python",
   "nbconvert_exporter": "python",
   "pygments_lexer": "ipython3",
   "version": "3.6.10"
  }
 },
 "nbformat": 4,
 "nbformat_minor": 4
}
